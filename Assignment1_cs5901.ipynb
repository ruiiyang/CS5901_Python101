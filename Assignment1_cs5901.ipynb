{
 "cells": [
  {
   "cell_type": "markdown",
   "metadata": {},
   "source": [
    "# Word Count Analysis\n",
    "## Introduction\n",
    "\n",
    "\n",
    "This notebook implements a word count analysis tool. The program reads a text file, validates input words, and counts occurrences of search terms efficiently while ensuring search terms match whole words in the text.\n",
    "\n",
    "The notebook uses Python re for regular expressions.\n",
    "\n",
    "\n",
    "Function word_count_summary.() accept two arguments file_path and search_terms\n",
    "\n",
    "search_terms can be one string, string can only be these characters: A-Z, a-z, 0-9, and underscore. Or search_terms can be a list of strings."
   ]
  },
  {
   "cell_type": "markdown",
   "metadata": {},
   "source": [
    "## Steps in the Solution\n",
    "- Validation Functions:`validate_word.()` and `validate_search_terms`.Functions to validate words and search terms to ensure they adhere to the required format. \n",
    "- Word Boundary Detection: `is_whole_word.()` Make sure the search terms match only as whole words in the text.\n",
    "- Result Formating Preprocessing: `print_single_word_count.()` and `print_word_count_table.()`.The results are displayed either as a single word count or a table with multiple search terms.\n",
    "- Word Count Function: `word_count_summary.()`The word_count_summary function reads the text file and counts the occurrences of search terms, leveraging the above utility functions.\n",
    "- Error catch for expected DataType and invalid characters."
   ]
  },
  {
   "cell_type": "markdown",
   "metadata": {},
   "source": [
    " This is the first draft that makes the function working. Later, there is a improved version."
   ]
  },
  {
   "cell_type": "code",
   "execution_count": 95,
   "metadata": {},
   "outputs": [],
   "source": [
    "import re\n",
    "\n",
    "def validate_word(word):\n",
    "    \"\"\"Validate the word to ensure it contains only valid characters.Check if the string contains only valid characters (A-Z, a-z, 0-9, and underscore).\"\"\"\n",
    "    # limit the letter to only [A-Za-z0-9_]\n",
    "    if not re.fullmatch(r'[\\w]+', word):  \n",
    "        raise ValueError(f\"The word '{word}' contains invalid characters. Only A-Z, a-z, 0-9, and underscore '_' are allowed.\")\n",
    "\n",
    "def validate_search_terms(search_terms):\n",
    "    \"\"\"Validate search_terms as a string or a list of strings, checking whether each of the string in the list fits the stanard. And check each of the string in the list contains only allowed characters.\"\"\"\n",
    "    if isinstance(search_terms, str):\n",
    "         # Validate single string directly\n",
    "        validate_word(search_terms) \n",
    "        return [search_terms]  \n",
    "    elif isinstance(search_terms, list):\n",
    "        #search every item in the list input as a valid string. If not, raise a ValueError.\n",
    "        for term in search_terms:\n",
    "            # Ensure each term is a string\n",
    "            if not isinstance(term, str):  \n",
    "                raise TypeError(f\"Expected a string, but got {type(term).__name__} for term '{term}'.\")\n",
    "            validate_word(term)\n",
    "            # Return the original list if all are valid\n",
    "        return search_terms  \n",
    "    else:\n",
    "        raise TypeError(\"search_terms should be a string or a list of strings.\")\n",
    "\n",
    "def is_whole_word(word, text):\n",
    "    \"\"\"Check if the word appears as a whole word in the processed text, matching case exactly.\"\"\"\n",
    "    index = text.find(word)\n",
    "    while index != -1:\n",
    "        # Ensure that the found word is at a word boundary\n",
    "        if (index == 0 or not text[index - 1].isalnum() and text[index - 1] != '_') and \\\n",
    "           (index + len(word) == len(text) or not text[index + len(word)].isalnum() and text[index + len(word)] != '_'):\n",
    "            return True\n",
    "        index = text.find(word, index + 1)\n",
    "    return False\n",
    "    \n",
    "\n",
    "def print_single_word_count(word, words):\n",
    "    \"\"\"Print the count of a single string in the sentences\"\"\"\n",
    "\n",
    "    word_count = sum(is_whole_word(word, w) for w in words)\n",
    "    if word_count == 1:\n",
    "        print(f'The word `{word}` appears {word_count} time.')\n",
    "    else:\n",
    "        print(f'The word `{word}` appears {word_count} times.')\n",
    "\n",
    "def print_word_count_table(search_terms, counts):\n",
    "    \"\"\"Print a table of search result in a formatted manner without using packages\"\"\"\n",
    "    # Determine maximum length for keyword and count columns\n",
    "    max_word_length = max(len(word) for word in search_terms + [\"WORD\"])\n",
    "    max_count_length = max(len(str(count)) for count in counts + [\"COUNT\"])\n",
    "\n",
    "    # Calculate column widths based on maximum lengths, adding padding\n",
    "    word_col_width = max_word_length + 2  # Add padding for spaces\n",
    "    count_col_width = max_count_length + 2  # Add padding for spaces\n",
    "    \n",
    "    # Print header with dynamic dashes\n",
    "    print(f\"|{'-' * word_col_width}|{'-' * count_col_width}|\")\n",
    "    print(f\"| {'WORD'.ljust(word_col_width - 1)}| {'COUNT'.rjust(count_col_width - 1)}|\")\n",
    "    print(f\"|{'-' * word_col_width}|{'-' * count_col_width}|\")\n",
    "    \n",
    "    # Print each row with word and count, left-aligned words and right-aligned counts\n",
    "    for keyword, count in zip(search_terms, counts):\n",
    "        print(f\"| {keyword.ljust(word_col_width - 1)}| {str(count).rjust(count_col_width - 1)}|\")\n",
    "    \n",
    "    # Print footer with total\n",
    "    total_count = sum(counts)\n",
    "    print(f\"|{'-' * word_col_width}|{'-' * count_col_width}|\")\n",
    "    print(f\"| {'TOTAL'.ljust(word_col_width - 1)}| {str(total_count).rjust(count_col_width - 1)}|\")\n",
    "    print(f\"|{'-' * word_col_width}|{'-' * count_col_width}|\")\n",
    "\n",
    "def word_count_summary(file_path, search_terms):\n",
    "    \"\"\"Read the file content and count the occurrences of search terms.\n",
    "\n",
    "    Args:\n",
    "        file_path (str): The path to the file to be read.\n",
    "        search_terms (str or list): The search term(s) to count in the file. This needs to be string, or list of strings. \n",
    "        Among strings, it will only allow A-Z,a-z, 0-9 and _\n",
    "\n",
    "        The string of search_terms will be split into a list of words, and each word will be counted separately.\n",
    "        The list of search_terms will be validated to ensure all elements are strings.\n",
    "    \"\"\"\n",
    "    try:\n",
    "        # call Validate function\n",
    "        search_terms = validate_search_terms(search_terms)\n",
    "\n",
    "        # Read file \n",
    "        with open(file_path, 'r', encoding='utf-8') as file:\n",
    "            content = file.read()\n",
    "            \n",
    "            # Split content into words based on compiled whole word pattern\n",
    "            words = re.findall(r'\\b\\w+\\b', content)\n",
    "\n",
    "            # Proceed with counting based on the normalized search_terms\n",
    "            counts = [sum(is_whole_word(keyword, word) for word in words) for keyword in search_terms]\n",
    "            \n",
    "            \n",
    "            if len(search_terms) == 1:\n",
    "                print_single_word_count(search_terms[0], words)\n",
    "            else:\n",
    "                print_word_count_table(search_terms, counts)\n",
    "\n",
    "    except FileNotFoundError:\n",
    "        print('Error: File not found.')\n",
    "    except ValueError as ve:\n",
    "        print(f\"Validation error: {ve}\")\n",
    "    except TypeError as te:\n",
    "        print(f\"Type error: {te}\")\n",
    "    except Exception as e:\n",
    "        print(f'An error occurred: {str(e)}')\n",
    "\n",
    "\n"
   ]
  },
  {
   "cell_type": "code",
   "execution_count": 96,
   "metadata": {},
   "outputs": [
    {
     "name": "stdout",
     "output_type": "stream",
     "text": [
      "The word `the` appears 4060 times.\n"
     ]
    }
   ],
   "source": [
    "# to prove this is a working solution\n",
    "word_count_summary(\"../../pride-and-prejudice.txt\", \"the\")"
   ]
  },
  {
   "cell_type": "markdown",
   "metadata": {},
   "source": [
    "#### This is the second improved version of the script"
   ]
  },
  {
   "cell_type": "markdown",
   "metadata": {},
   "source": [
    "To optimize the abovementioned code, here are some potential improvements:\n",
    "\n",
    " 1. Use ordered set to store all the search items in validate_search_terms(), set can de-duplicate\n",
    " 2. Use re.compile() instead of re.findall() \n",
    " 3. Simplify is_whole_word() condition via regualr expression\n",
    " 4. Commenting improvement on type annotation and more details docstring comment\n",
    "\n"
   ]
  },
  {
   "cell_type": "code",
   "execution_count": 71,
   "metadata": {},
   "outputs": [],
   "source": [
    "import re\n",
    "\n",
    "def validate_word(word):\n",
    "    \"\"\"\n",
    "    Validate the word to ensure it contains only valid characters.\n",
    "    \n",
    "    Args:\n",
    "        word (str): The word to validate.\n",
    "\n",
    "    Raises:\n",
    "        ValueError: If the word contains invalid characters.\n",
    "    \"\"\"\n",
    "    # Using \\w to quick refer the matches of [A-Za-z0-9_]\n",
    "    valid_word_pattern = re.compile(r'[\\w]+')\n",
    "    if not valid_word_pattern.fullmatch(word):\n",
    "        raise ValueError(f\"The word '{word}' contains invalid characters. Only A-Z, a-z, 0-9, and underscore '_' are allowed.\")\n",
    "\n",
    "def validate_search_terms(search_terms):\n",
    "    \"\"\"\n",
    "    Validate search_terms as a string or a list of strings and ensure uniqueness while maintaining order.\n",
    "    \n",
    "    Args:\n",
    "        search_terms (str or list): Words to validate.\n",
    "    \n",
    "    Returns:\n",
    "        list: Validated and normalized list of search terms.\n",
    "\n",
    "    Raises:\n",
    "        TypeError: If search_terms is not a string or a list of strings.\n",
    "        ValueError: If any term contains invalid characters.\n",
    "    \"\"\"\n",
    "    if isinstance(search_terms, str):\n",
    "        validate_word(search_terms)\n",
    "        return [search_terms]\n",
    "    #valid each elements in the list to also be [A-Za-z0-9_]\n",
    "    elif isinstance(search_terms, list):\n",
    "        # Creating an ordered set to avoid the duplicate elements in the list\n",
    "        ordered_set = list(dict.fromkeys(search_terms))  \n",
    "        for term in ordered_set:\n",
    "            validate_word(term)\n",
    "        return ordered_set\n",
    "    else:\n",
    "        raise TypeError(\"search_terms should be a string or a list of strings. Strin only allows A-Z, a-z, 0-9, and underscore '_'.\")\n",
    "\n",
    "def is_whole_word(word, text):\n",
    "    \"\"\"\n",
    "    Check if the word appears as a whole word in the text. Avoid search 'there', but 'therefore' are being count\n",
    "\n",
    "    Args:\n",
    "        word (str): The word to search for.\n",
    "        text (str): The text to search within.\n",
    "\n",
    "    Returns:\n",
    "        bool: True if the word appears as a whole word, False otherwise.\n",
    "    \"\"\"\n",
    "    # Use re.escape to escape special characters in the word\n",
    "    pattern = re.compile(rf'\\b{re.escape(word)}\\b')\n",
    "    return bool(pattern.search(text))\n",
    "\n",
    "def print_single_word_count(word, words):\n",
    "    \"\"\"\n",
    "    Print the count of a single word in the text.\n",
    "    \n",
    "    Args:\n",
    "        word (str): The word to count.\n",
    "        words (list): List of words in the text.\n",
    "    \"\"\"\n",
    "    word_count = sum(is_whole_word(word, w) for w in words)\n",
    "    if word_count == 1:\n",
    "        print(f'The word `{word}` appears {word_count} time.')\n",
    "    else:\n",
    "        print(f'The word `{word}` appears {word_count} times.')\n",
    "\n",
    "def print_word_count_table(search_terms, counts):\n",
    "    \"\"\"\n",
    "    Print a table of word counts in a formatted manner.\n",
    "    \n",
    "    Args:\n",
    "        search_terms (list): List of search terms.\n",
    "        counts (list): List of counts corresponding to the search terms.\n",
    "    \"\"\"\n",
    "\n",
    "    # Determine maximum length for keyword and count columns\n",
    "    max_word_length = max(len(word) for word in search_terms + [\"WORD\"])\n",
    "    max_count_length = max(len(str(count)) for count in counts + [\"COUNT\"])\n",
    "\n",
    "    # Calculate column widths based on maximum lengths, adding padding \n",
    "    word_col_width = max_word_length + 2  \n",
    "    count_col_width = max_count_length + 2  \n",
    "    \n",
    "    # Print header with dynamic dashes\n",
    "    print(f\"|{'-' * word_col_width}|{'-' * count_col_width}|\")\n",
    "    print(f\"| {'WORD'.ljust(word_col_width - 1)}| {'COUNT'.rjust(count_col_width - 1)}|\")\n",
    "    print(f\"|{'-' * word_col_width}|{'-' * count_col_width}|\")\n",
    "    \n",
    "    # Print each row with word and count, left-aligned words and right-aligned counts\n",
    "    for keyword, count in zip(search_terms, counts):\n",
    "        print(f\"| {keyword.ljust(word_col_width - 1)}| {str(count).rjust(count_col_width - 1)}|\")\n",
    "    \n",
    "    # Print footer with total\n",
    "    total_count = sum(counts)\n",
    "    print(f\"|{'-' * word_col_width}|{'-' * count_col_width}|\")\n",
    "    print(f\"| {'TOTAL'.ljust(word_col_width - 1)}| {str(total_count).rjust(count_col_width - 1)}|\")\n",
    "    print(f\"|{'-' * word_col_width}|{'-' * count_col_width}|\")\n",
    "\n",
    "def word_count_summary(file_path, search_terms):\n",
    "    \"\"\"Read the file content and count the occurrences of search terms.\n",
    "\n",
    "    Args:\n",
    "        file_path (str): The path to the file to be read.\n",
    "        search_terms (str or list): The search term(s) to count in the file. This needs to be string, or list of strings. \n",
    "        Among strings, it will only allow A-Z,a-z, 0-9 and _\n",
    "\n",
    "        The string of search_terms will be split into a list of words, and each word will be counted separately.\n",
    "        The list of search_terms will be validated to ensure all elements are strings.\n",
    "    \"\"\"\n",
    "    try:\n",
    "        # Validate and normalize search terms\n",
    "        search_terms = validate_search_terms(search_terms)\n",
    "\n",
    "        # Initialize counts for each search term\n",
    "        counts = {term: 0 for term in search_terms}\n",
    "        \n",
    "        # Read and process the file content\n",
    "        with open(file_path, 'r', encoding='utf-8') as file:\n",
    "            content = file.read()\n",
    "            \n",
    "            # Split content into words based on compiled whole word pattern\n",
    "            words = re.findall(r'\\b\\w+\\b', content)\n",
    "\n",
    "            # Proceed with counting based on the normalized search_terms\n",
    "            counts = [sum(is_whole_word(keyword, word) for word in words) for keyword in search_terms]\n",
    "            \n",
    "            # Print results\n",
    "            if len(search_terms) == 1:\n",
    "                print_single_word_count(search_terms[0], words)\n",
    "            else:\n",
    "                print_word_count_table(search_terms, counts)\n",
    "\n",
    "    except FileNotFoundError:\n",
    "        print('Error: File not found.')\n",
    "    except ValueError as ve:\n",
    "        print(f\"Validation error: {ve}\")\n",
    "    except TypeError as te:\n",
    "        print(f\"Type error: {te}\")\n",
    "    except Exception as e:\n",
    "        print(f'An error occurred: {str(e)}')\n",
    "\n",
    "\n"
   ]
  },
  {
   "cell_type": "markdown",
   "metadata": {},
   "source": [
    "# Testing section"
   ]
  },
  {
   "cell_type": "code",
   "execution_count": 81,
   "metadata": {},
   "outputs": [
    {
     "name": "stdout",
     "output_type": "stream",
     "text": [
      "Type error: search_terms should be a string or a list of strings. Strin only allows A-Z, a-z, 0-9, and underscore '_'.\n"
     ]
    }
   ],
   "source": [
    "word_count_summary('../../pride-and-prejudice.txt', 5)"
   ]
  },
  {
   "cell_type": "code",
   "execution_count": 92,
   "metadata": {},
   "outputs": [
    {
     "name": "stdout",
     "output_type": "stream",
     "text": [
      "Validation error: The word '15_th October_' contains invalid characters. Only A-Z, a-z, 0-9, and underscore '_' are allowed.\n"
     ]
    }
   ],
   "source": [
    "word_count_summary('../../pride-and-prejudice.txt', \"15_th October_\")\n"
   ]
  },
  {
   "cell_type": "code",
   "execution_count": 90,
   "metadata": {},
   "outputs": [
    {
     "name": "stdout",
     "output_type": "stream",
     "text": [
      "The word `_there_` appears 5 times.\n"
     ]
    }
   ],
   "source": [
    "word_count_summary('../../pride-and-prejudice.txt', \"_there_\")"
   ]
  },
  {
   "cell_type": "code",
   "execution_count": 91,
   "metadata": {},
   "outputs": [
    {
     "name": "stdout",
     "output_type": "stream",
     "text": [
      "The word `there` appears 285 times.\n"
     ]
    }
   ],
   "source": [
    "word_count_summary('../../pride-and-prejudice.txt', \"there\")"
   ]
  },
  {
   "cell_type": "code",
   "execution_count": 72,
   "metadata": {},
   "outputs": [
    {
     "name": "stdout",
     "output_type": "stream",
     "text": [
      "The word `Elizabeth` appears 634 times.\n"
     ]
    }
   ],
   "source": [
    "word_count_summary('../../pride-and-prejudice.txt', \"Elizabeth\")"
   ]
  },
  {
   "cell_type": "code",
   "execution_count": 73,
   "metadata": {},
   "outputs": [
    {
     "name": "stdout",
     "output_type": "stream",
     "text": [
      "The word `the` appears 4060 times.\n"
     ]
    }
   ],
   "source": [
    "word_count_summary(\"../../pride-and-prejudice.txt\", \"the\")"
   ]
  },
  {
   "cell_type": "code",
   "execution_count": 93,
   "metadata": {},
   "outputs": [
    {
     "name": "stdout",
     "output_type": "stream",
     "text": [
      "Type error: Expected a string, but got int for term '5'.\n"
     ]
    }
   ],
   "source": [
    "word_count_summary(\"../../pride-and-prejudice.txt\", [\"the\",5])"
   ]
  },
  {
   "cell_type": "code",
   "execution_count": 74,
   "metadata": {},
   "outputs": [
    {
     "name": "stdout",
     "output_type": "stream",
     "text": [
      "|-----------|-------|\n",
      "| WORD      |  COUNT|\n",
      "|-----------|-------|\n",
      "| Jane      |    292|\n",
      "| Elizabeth |    634|\n",
      "| Mary      |     39|\n",
      "| Kitty     |     71|\n",
      "| Lydia     |    170|\n",
      "|-----------|-------|\n",
      "| TOTAL     |   1206|\n",
      "|-----------|-------|\n"
     ]
    }
   ],
   "source": [
    "word_count_summary(\"../../pride-and-prejudice.txt\", [\"Jane\", \"Elizabeth\", \"Mary\", \"Kitty\", \"Lydia\"])"
   ]
  },
  {
   "cell_type": "code",
   "execution_count": 75,
   "metadata": {},
   "outputs": [
    {
     "name": "stdout",
     "output_type": "stream",
     "text": [
      "|------|-------|\n",
      "| WORD |  COUNT|\n",
      "|------|-------|\n",
      "| the  |   4060|\n",
      "| is   |    831|\n",
      "| and  |   3434|\n",
      "|------|-------|\n",
      "| TOTAL|   8325|\n",
      "|------|-------|\n"
     ]
    }
   ],
   "source": [
    "word_count_summary(\"../../pride-and-prejudice.txt\", ['the', 'is', 'and', 'the'] )"
   ]
  },
  {
   "cell_type": "code",
   "execution_count": 77,
   "metadata": {},
   "outputs": [
    {
     "name": "stdout",
     "output_type": "stream",
     "text": [
      "The word `times` appears 51 times.\n"
     ]
    }
   ],
   "source": [
    "word_count_summary(\"../../a-tale-of-two-cities.txt\", \"times\")"
   ]
  },
  {
   "cell_type": "code",
   "execution_count": 78,
   "metadata": {},
   "outputs": [
    {
     "name": "stdout",
     "output_type": "stream",
     "text": [
      "|--------|-------|\n",
      "| WORD   |  COUNT|\n",
      "|--------|-------|\n",
      "| London |     28|\n",
      "| Paris  |     63|\n",
      "|--------|-------|\n",
      "| TOTAL  |     91|\n",
      "|--------|-------|\n",
      "None\n"
     ]
    }
   ],
   "source": [
    "print(word_count_summary(\"../../a-tale-of-two-cities.txt\", [\"London\", \"Paris\"])) "
   ]
  },
  {
   "cell_type": "code",
   "execution_count": 79,
   "metadata": {},
   "outputs": [
    {
     "name": "stdout",
     "output_type": "stream",
     "text": [
      "The word `pizza` appears 0 times.\n",
      "None\n"
     ]
    }
   ],
   "source": [
    "print(word_count_summary(\"../../a-tale-of-two-cities.txt\", \"pizza\"))"
   ]
  }
 ],
 "metadata": {
  "kernelspec": {
   "display_name": "Python 3",
   "language": "python",
   "name": "python3"
  },
  "language_info": {
   "codemirror_mode": {
    "name": "ipython",
    "version": 3
   },
   "file_extension": ".py",
   "mimetype": "text/x-python",
   "name": "python",
   "nbconvert_exporter": "python",
   "pygments_lexer": "ipython3",
   "version": "3.12.0"
  }
 },
 "nbformat": 4,
 "nbformat_minor": 2
}
